{
 "cells": [
  {
   "cell_type": "markdown",
   "id": "043f47a0",
   "metadata": {},
   "source": [
    "# NLP for mulitple apps user reviews"
   ]
  },
  {
   "cell_type": "markdown",
   "id": "dc1b5d08",
   "metadata": {},
   "source": [
    "This notebook is the next step of the previous and smaller one I uploaded \"NLP-Netflix-Notebook\". The main difference is for this notebook I will be concatenating multiple dataframes from different apps to make one larger dataset. This will make a more robust final model."
   ]
  },
  {
   "cell_type": "markdown",
   "id": "3fb8e715",
   "metadata": {},
   "source": [
    "### Datasets used:\n",
    "Netflix:  https://www.kaggle.com/datasets/ashishkumarak/netflix-reviews-playstore-daily-updated\n",
    "\n",
    "Spotify: https://www.kaggle.com/datasets/ashishkumarak/spotify-reviews-playstore-daily-update\n",
    "\n",
    "ChatGpt:https://www.kaggle.com/datasets/ashishkumarak/chatgpt-reviews-daily-updated\n",
    "\n",
    "Facebook: https://www.kaggle.com/datasets/ashishkumarak/play-store-reviews-facebook\n",
    "\n",
    "Amazon: https://www.kaggle.com/datasets/ashishkumarak/amazon-shopping-reviews-daily-updated"
   ]
  },
  {
   "cell_type": "markdown",
   "id": "19e892d2",
   "metadata": {},
   "source": []
  },
  {
   "cell_type": "markdown",
   "id": "c6587324",
   "metadata": {},
   "source": [
    "## Imports"
   ]
  },
  {
   "cell_type": "code",
   "execution_count": 1,
   "id": "2ff0ca67",
   "metadata": {},
   "outputs": [],
   "source": [
    "import pandas as pd\n",
    "import numpy as np\n",
    "import re \n",
    "\n",
    "from sklearn.feature_extraction.text import CountVectorizer, TfidfTransformer\n",
    "from sklearn.preprocessing import MinMaxScaler\n",
    "\n",
    "#Lots of models to compare\n",
    "from sklearn.naive_bayes import GaussianNB, MultinomialNB, BernoulliNB\n",
    "from sklearn.neighbors import KNeighborsClassifier\n",
    "from sklearn.tree import DecisionTreeClassifier\n",
    "from sklearn.ensemble import RandomForestClassifier\n",
    "\n",
    "from sklearn.metrics import accuracy_score, confusion_matrix, precision_score\n",
    "from sklearn.model_selection import cross_val_score\n",
    "\n",
    "from nltk.stem.porter import PorterStemmer\n",
    "from nltk.corpus import stopwords\n",
    "\n",
    "#The size of this new data set makes training on the cpu with sklearn incredibly slow so I will use pytorch on the GPU\n",
    "import torch\n",
    "import torch.nn as nn\n",
    "import torch.optim as optim\n",
    "from torch.utils.data import Dataset, DataLoader\n",
    "import torch.nn.functional as F"
   ]
  },
  {
   "cell_type": "markdown",
   "id": "70b1c8fe",
   "metadata": {},
   "source": [
    "## Load Data\n",
    "\n",
    "Time to load all of the review datasets and concatenate them in to one large master dataset. "
   ]
  },
  {
   "cell_type": "code",
   "execution_count": 2,
   "id": "c70f24e4",
   "metadata": {},
   "outputs": [
    {
     "data": {
      "text/html": [
       "<div>\n",
       "<style scoped>\n",
       "    .dataframe tbody tr th:only-of-type {\n",
       "        vertical-align: middle;\n",
       "    }\n",
       "\n",
       "    .dataframe tbody tr th {\n",
       "        vertical-align: top;\n",
       "    }\n",
       "\n",
       "    .dataframe thead th {\n",
       "        text-align: right;\n",
       "    }\n",
       "</style>\n",
       "<table border=\"1\" class=\"dataframe\">\n",
       "  <thead>\n",
       "    <tr style=\"text-align: right;\">\n",
       "      <th></th>\n",
       "      <th>reviewId</th>\n",
       "      <th>userName</th>\n",
       "      <th>content</th>\n",
       "      <th>score</th>\n",
       "      <th>thumbsUpCount</th>\n",
       "      <th>reviewCreatedVersion</th>\n",
       "      <th>at</th>\n",
       "      <th>appVersion</th>\n",
       "    </tr>\n",
       "  </thead>\n",
       "  <tbody>\n",
       "    <tr>\n",
       "      <th>0</th>\n",
       "      <td>437314fe-1b1d-4352-abea-12fec30fce58</td>\n",
       "      <td>Rajib Das</td>\n",
       "      <td>It's good</td>\n",
       "      <td>4</td>\n",
       "      <td>0</td>\n",
       "      <td>NaN</td>\n",
       "      <td>2024-05-09 16:28:13</td>\n",
       "      <td>NaN</td>\n",
       "    </tr>\n",
       "    <tr>\n",
       "      <th>1</th>\n",
       "      <td>4933ad2c-c70a-4a84-957d-d405439b2e0f</td>\n",
       "      <td>Mihaela Claudia Neagu</td>\n",
       "      <td>I love this app so much, I've been using Spoti...</td>\n",
       "      <td>5</td>\n",
       "      <td>0</td>\n",
       "      <td>8.9.38.494</td>\n",
       "      <td>2024-05-09 16:27:18</td>\n",
       "      <td>8.9.38.494</td>\n",
       "    </tr>\n",
       "    <tr>\n",
       "      <th>2</th>\n",
       "      <td>1ab275fb-59bf-42c7-88ef-b85901f0445e</td>\n",
       "      <td>JONATHAN GRACIA</td>\n",
       "      <td>Perfect</td>\n",
       "      <td>5</td>\n",
       "      <td>0</td>\n",
       "      <td>8.9.36.616</td>\n",
       "      <td>2024-05-09 16:27:03</td>\n",
       "      <td>8.9.36.616</td>\n",
       "    </tr>\n",
       "    <tr>\n",
       "      <th>3</th>\n",
       "      <td>b38406eb-7b11-4ceb-a45c-d7f28fb5d382</td>\n",
       "      <td>Cam Rempel</td>\n",
       "      <td>Best all around music streaming app I have use...</td>\n",
       "      <td>5</td>\n",
       "      <td>0</td>\n",
       "      <td>8.9.38.494</td>\n",
       "      <td>2024-05-09 16:26:19</td>\n",
       "      <td>8.9.38.494</td>\n",
       "    </tr>\n",
       "    <tr>\n",
       "      <th>4</th>\n",
       "      <td>7be7999d-4cb6-47b9-8414-d7bdaa9df578</td>\n",
       "      <td>Your clowness (Her Clowness)</td>\n",
       "      <td>Are y'all fr gatekeeping the play button on so...</td>\n",
       "      <td>1</td>\n",
       "      <td>0</td>\n",
       "      <td>8.9.38.494</td>\n",
       "      <td>2024-05-09 16:26:14</td>\n",
       "      <td>8.9.38.494</td>\n",
       "    </tr>\n",
       "  </tbody>\n",
       "</table>\n",
       "</div>"
      ],
      "text/plain": [
       "                               reviewId                      userName  \\\n",
       "0  437314fe-1b1d-4352-abea-12fec30fce58                     Rajib Das   \n",
       "1  4933ad2c-c70a-4a84-957d-d405439b2e0f         Mihaela Claudia Neagu   \n",
       "2  1ab275fb-59bf-42c7-88ef-b85901f0445e               JONATHAN GRACIA   \n",
       "3  b38406eb-7b11-4ceb-a45c-d7f28fb5d382                    Cam Rempel   \n",
       "4  7be7999d-4cb6-47b9-8414-d7bdaa9df578  Your clowness (Her Clowness)   \n",
       "\n",
       "                                             content  score  thumbsUpCount  \\\n",
       "0                                          It's good      4              0   \n",
       "1  I love this app so much, I've been using Spoti...      5              0   \n",
       "2                                            Perfect      5              0   \n",
       "3  Best all around music streaming app I have use...      5              0   \n",
       "4  Are y'all fr gatekeeping the play button on so...      1              0   \n",
       "\n",
       "  reviewCreatedVersion                   at  appVersion  \n",
       "0                  NaN  2024-05-09 16:28:13         NaN  \n",
       "1           8.9.38.494  2024-05-09 16:27:18  8.9.38.494  \n",
       "2           8.9.36.616  2024-05-09 16:27:03  8.9.36.616  \n",
       "3           8.9.38.494  2024-05-09 16:26:19  8.9.38.494  \n",
       "4           8.9.38.494  2024-05-09 16:26:14  8.9.38.494  "
      ]
     },
     "execution_count": 2,
     "metadata": {},
     "output_type": "execute_result"
    }
   ],
   "source": [
    "spotify_file = \"spotify_reviews.csv\"\n",
    "spotify_df = pd.read_csv(spotify_file)\n",
    "\n",
    "facebook_file = \"facebook_reviews.csv\"\n",
    "facebook_df = pd.read_csv(facebook_file)\n",
    "\n",
    "chatgpt_file = \"chatgpt_reviews.csv\"\n",
    "chatgpt_df = pd.read_csv(chatgpt_file)\n",
    "\n",
    "netflix_file = \"netflix_reviews.csv\"\n",
    "netflix_df = pd.read_csv(netflix_file)\n",
    "\n",
    "\n",
    "df = pd.concat([spotify_df, facebook_df, chatgpt_df, netflix_df], axis=0, ignore_index=True)\n",
    "df.head()"
   ]
  },
  {
   "cell_type": "code",
   "execution_count": 3,
   "id": "c7d51906",
   "metadata": {},
   "outputs": [
    {
     "name": "stdout",
     "output_type": "stream",
     "text": [
      "Spotify shape: (84165, 8)\n",
      "Facebook shape: (89458, 8)\n",
      "ChatGPT shape: (137132, 8)\n",
      "Netflix shape: (112271, 8)\n",
      "\n",
      "Combined datasets shape: (423026, 8)\n"
     ]
    }
   ],
   "source": [
    "print(f\"Spotify shape: {spotify_df.shape}\")\n",
    "print(f\"Facebook shape: {facebook_df.shape}\")\n",
    "print(f\"ChatGPT shape: {chatgpt_df.shape}\")\n",
    "print(f\"Netflix shape: {netflix_df.shape}\")\n",
    "print(f\"\\nCombined datasets shape: {df.shape}\")\n"
   ]
  },
  {
   "cell_type": "markdown",
   "id": "1eafcb48",
   "metadata": {},
   "source": [
    "For the task of sentiment analysis on the reviews text most of these columns are not needed. The two important ones are \"content\" and \"score\"."
   ]
  },
  {
   "cell_type": "code",
   "execution_count": 4,
   "id": "80cc1d15",
   "metadata": {},
   "outputs": [
    {
     "data": {
      "text/html": [
       "<div>\n",
       "<style scoped>\n",
       "    .dataframe tbody tr th:only-of-type {\n",
       "        vertical-align: middle;\n",
       "    }\n",
       "\n",
       "    .dataframe tbody tr th {\n",
       "        vertical-align: top;\n",
       "    }\n",
       "\n",
       "    .dataframe thead th {\n",
       "        text-align: right;\n",
       "    }\n",
       "</style>\n",
       "<table border=\"1\" class=\"dataframe\">\n",
       "  <thead>\n",
       "    <tr style=\"text-align: right;\">\n",
       "      <th></th>\n",
       "      <th>content</th>\n",
       "      <th>score</th>\n",
       "    </tr>\n",
       "  </thead>\n",
       "  <tbody>\n",
       "    <tr>\n",
       "      <th>0</th>\n",
       "      <td>It's good</td>\n",
       "      <td>4</td>\n",
       "    </tr>\n",
       "    <tr>\n",
       "      <th>1</th>\n",
       "      <td>I love this app so much, I've been using Spoti...</td>\n",
       "      <td>5</td>\n",
       "    </tr>\n",
       "    <tr>\n",
       "      <th>2</th>\n",
       "      <td>Perfect</td>\n",
       "      <td>5</td>\n",
       "    </tr>\n",
       "    <tr>\n",
       "      <th>3</th>\n",
       "      <td>Best all around music streaming app I have use...</td>\n",
       "      <td>5</td>\n",
       "    </tr>\n",
       "    <tr>\n",
       "      <th>4</th>\n",
       "      <td>Are y'all fr gatekeeping the play button on so...</td>\n",
       "      <td>1</td>\n",
       "    </tr>\n",
       "  </tbody>\n",
       "</table>\n",
       "</div>"
      ],
      "text/plain": [
       "                                             content  score\n",
       "0                                          It's good      4\n",
       "1  I love this app so much, I've been using Spoti...      5\n",
       "2                                            Perfect      5\n",
       "3  Best all around music streaming app I have use...      5\n",
       "4  Are y'all fr gatekeeping the play button on so...      1"
      ]
     },
     "execution_count": 4,
     "metadata": {},
     "output_type": "execute_result"
    }
   ],
   "source": [
    "df = df[[\"content\",\"score\"]]\n",
    "df.head()"
   ]
  },
  {
   "cell_type": "code",
   "execution_count": 5,
   "id": "5da31b1e",
   "metadata": {},
   "outputs": [
    {
     "data": {
      "text/plain": [
       "content    16\n",
       "score       0\n",
       "dtype: int64"
      ]
     },
     "execution_count": 5,
     "metadata": {},
     "output_type": "execute_result"
    }
   ],
   "source": [
    "df.isnull().sum()"
   ]
  },
  {
   "cell_type": "markdown",
   "id": "eafbece7",
   "metadata": {},
   "source": [
    "There is just two values missing in this dataset given how this is so proportionatly small I am ok with just removing them."
   ]
  },
  {
   "cell_type": "markdown",
   "id": "7db997a6",
   "metadata": {},
   "source": [
    "## Feature Engineering"
   ]
  },
  {
   "cell_type": "markdown",
   "id": "dbaebfa3",
   "metadata": {},
   "source": [
    "### Creating Sentiment"
   ]
  },
  {
   "cell_type": "markdown",
   "id": "f06fd67d",
   "metadata": {},
   "source": [
    "This is an easy step. If the star rating is 4 or 5 the sentiment is 2. For a star rating of 3 sentiment is 1 and 1 and 2 star ratings are 0 sentiment."
   ]
  },
  {
   "cell_type": "code",
   "execution_count": 6,
   "id": "97e3336b",
   "metadata": {},
   "outputs": [],
   "source": [
    "df.dropna(inplace=True)"
   ]
  },
  {
   "cell_type": "code",
   "execution_count": 7,
   "id": "7cc8c3df",
   "metadata": {},
   "outputs": [
    {
     "data": {
      "text/html": [
       "<div>\n",
       "<style scoped>\n",
       "    .dataframe tbody tr th:only-of-type {\n",
       "        vertical-align: middle;\n",
       "    }\n",
       "\n",
       "    .dataframe tbody tr th {\n",
       "        vertical-align: top;\n",
       "    }\n",
       "\n",
       "    .dataframe thead th {\n",
       "        text-align: right;\n",
       "    }\n",
       "</style>\n",
       "<table border=\"1\" class=\"dataframe\">\n",
       "  <thead>\n",
       "    <tr style=\"text-align: right;\">\n",
       "      <th></th>\n",
       "      <th>content</th>\n",
       "      <th>score</th>\n",
       "      <th>sentiment</th>\n",
       "    </tr>\n",
       "  </thead>\n",
       "  <tbody>\n",
       "    <tr>\n",
       "      <th>0</th>\n",
       "      <td>It's good</td>\n",
       "      <td>4</td>\n",
       "      <td>2</td>\n",
       "    </tr>\n",
       "    <tr>\n",
       "      <th>1</th>\n",
       "      <td>I love this app so much, I've been using Spoti...</td>\n",
       "      <td>5</td>\n",
       "      <td>2</td>\n",
       "    </tr>\n",
       "    <tr>\n",
       "      <th>2</th>\n",
       "      <td>Perfect</td>\n",
       "      <td>5</td>\n",
       "      <td>2</td>\n",
       "    </tr>\n",
       "    <tr>\n",
       "      <th>3</th>\n",
       "      <td>Best all around music streaming app I have use...</td>\n",
       "      <td>5</td>\n",
       "      <td>2</td>\n",
       "    </tr>\n",
       "    <tr>\n",
       "      <th>4</th>\n",
       "      <td>Are y'all fr gatekeeping the play button on so...</td>\n",
       "      <td>1</td>\n",
       "      <td>0</td>\n",
       "    </tr>\n",
       "  </tbody>\n",
       "</table>\n",
       "</div>"
      ],
      "text/plain": [
       "                                             content  score  sentiment\n",
       "0                                          It's good      4          2\n",
       "1  I love this app so much, I've been using Spoti...      5          2\n",
       "2                                            Perfect      5          2\n",
       "3  Best all around music streaming app I have use...      5          2\n",
       "4  Are y'all fr gatekeeping the play button on so...      1          0"
      ]
     },
     "execution_count": 7,
     "metadata": {},
     "output_type": "execute_result"
    }
   ],
   "source": [
    "def score_to_sentiment(score):\n",
    "    if score in [4,5]:\n",
    "        return 2\n",
    "    elif score ==3:\n",
    "        return 1\n",
    "    elif score in [1,2]:\n",
    "        return 0\n",
    "\n",
    "df[\"sentiment\"] = df[\"score\"].apply(score_to_sentiment)\n",
    "df.head()"
   ]
  },
  {
   "cell_type": "markdown",
   "id": "68741134",
   "metadata": {},
   "source": [
    "### Cleaning the text"
   ]
  },
  {
   "cell_type": "markdown",
   "id": "6f9c5bec",
   "metadata": {},
   "source": [
    "Here the text is cleaned with the removal of emojis and special characters."
   ]
  },
  {
   "cell_type": "code",
   "execution_count": 8,
   "id": "0b63af05",
   "metadata": {},
   "outputs": [],
   "source": [
    "def preprocessor(text):\n",
    "    text = re.sub(\"<[^>]*>\", \"\",text)\n",
    "    emoticons = re.findall(\"(?::|;|=)(?:-)?(?:\\)|\\(|D|P)\",text)\n",
    "    text = re.sub(\"[\\W]+\", \" \", text.lower())+ \" \".join(emoticons).replace(\"-\", \"\")\n",
    "    return text"
   ]
  },
  {
   "cell_type": "code",
   "execution_count": 9,
   "id": "1fa35143",
   "metadata": {},
   "outputs": [
    {
     "name": "stdout",
     "output_type": "stream",
     "text": [
      "Before processing: \n",
      "Tooooo expensive!!\n",
      "After processing: \n",
      " tooooo expensive \n"
     ]
    }
   ],
   "source": [
    "print(f\"Before processing: \\n{df['content'].iloc[401]}\")\n",
    "print(f\"After processing: \\n {preprocessor(df['content'].iloc[401])}\")"
   ]
  },
  {
   "cell_type": "code",
   "execution_count": 10,
   "id": "ff5cff8b",
   "metadata": {},
   "outputs": [],
   "source": [
    "df[\"content\"] = df[\"content\"].apply(preprocessor)"
   ]
  },
  {
   "cell_type": "markdown",
   "id": "7509dbeb",
   "metadata": {},
   "source": [
    "### Word and character counts"
   ]
  },
  {
   "cell_type": "markdown",
   "id": "89ed3fd9",
   "metadata": {},
   "source": [
    "Here I will create two new columns for the dataframe to contain the word and character counts for the content column."
   ]
  },
  {
   "cell_type": "code",
   "execution_count": 11,
   "id": "fcf1ee01",
   "metadata": {},
   "outputs": [],
   "source": [
    "w =[]\n",
    "c=[]\n",
    "def word_and_char_counts(text):\n",
    "    words = text.split()\n",
    "    char_len = 0\n",
    "    for word in words:\n",
    "        char_len += len(word) #Character count\n",
    "    w.append(len(words)) #Word count\n",
    "    c.append(char_len)\n",
    "    return (len(words), char_len)"
   ]
  },
  {
   "cell_type": "code",
   "execution_count": 12,
   "id": "572d9aeb",
   "metadata": {},
   "outputs": [
    {
     "data": {
      "text/html": [
       "<div>\n",
       "<style scoped>\n",
       "    .dataframe tbody tr th:only-of-type {\n",
       "        vertical-align: middle;\n",
       "    }\n",
       "\n",
       "    .dataframe tbody tr th {\n",
       "        vertical-align: top;\n",
       "    }\n",
       "\n",
       "    .dataframe thead th {\n",
       "        text-align: right;\n",
       "    }\n",
       "</style>\n",
       "<table border=\"1\" class=\"dataframe\">\n",
       "  <thead>\n",
       "    <tr style=\"text-align: right;\">\n",
       "      <th></th>\n",
       "      <th>content</th>\n",
       "      <th>score</th>\n",
       "      <th>sentiment</th>\n",
       "      <th>wordCount</th>\n",
       "      <th>charCount</th>\n",
       "    </tr>\n",
       "  </thead>\n",
       "  <tbody>\n",
       "    <tr>\n",
       "      <th>0</th>\n",
       "      <td>it s good</td>\n",
       "      <td>4</td>\n",
       "      <td>2</td>\n",
       "      <td>3</td>\n",
       "      <td>7</td>\n",
       "    </tr>\n",
       "    <tr>\n",
       "      <th>1</th>\n",
       "      <td>i love this app so much i ve been using spotif...</td>\n",
       "      <td>5</td>\n",
       "      <td>2</td>\n",
       "      <td>82</td>\n",
       "      <td>308</td>\n",
       "    </tr>\n",
       "    <tr>\n",
       "      <th>2</th>\n",
       "      <td>perfect</td>\n",
       "      <td>5</td>\n",
       "      <td>2</td>\n",
       "      <td>1</td>\n",
       "      <td>7</td>\n",
       "    </tr>\n",
       "    <tr>\n",
       "      <th>3</th>\n",
       "      <td>best all around music streaming app i have use...</td>\n",
       "      <td>5</td>\n",
       "      <td>2</td>\n",
       "      <td>14</td>\n",
       "      <td>59</td>\n",
       "    </tr>\n",
       "    <tr>\n",
       "      <th>4</th>\n",
       "      <td>are y all fr gatekeeping the play button on so...</td>\n",
       "      <td>1</td>\n",
       "      <td>0</td>\n",
       "      <td>10</td>\n",
       "      <td>40</td>\n",
       "    </tr>\n",
       "  </tbody>\n",
       "</table>\n",
       "</div>"
      ],
      "text/plain": [
       "                                             content  score  sentiment  \\\n",
       "0                                          it s good      4          2   \n",
       "1  i love this app so much i ve been using spotif...      5          2   \n",
       "2                                            perfect      5          2   \n",
       "3  best all around music streaming app i have use...      5          2   \n",
       "4  are y all fr gatekeeping the play button on so...      1          0   \n",
       "\n",
       "   wordCount  charCount  \n",
       "0          3          7  \n",
       "1         82        308  \n",
       "2          1          7  \n",
       "3         14         59  \n",
       "4         10         40  "
      ]
     },
     "execution_count": 12,
     "metadata": {},
     "output_type": "execute_result"
    }
   ],
   "source": [
    "df[\"content\"].apply(word_and_char_counts)\n",
    "df[\"wordCount\"] = w\n",
    "df[\"charCount\"] = c\n",
    "df.head()"
   ]
  },
  {
   "cell_type": "markdown",
   "id": "ccc9d7d7",
   "metadata": {},
   "source": [
    "## Train, Test split"
   ]
  },
  {
   "cell_type": "code",
   "execution_count": 13,
   "id": "b12cc448",
   "metadata": {},
   "outputs": [],
   "source": [
    "i = int(df.shape[0]*0.8)\n",
    "features = [\"content\",\"wordCount\",\"charCount\"]\n",
    "X_train = df.loc[:i, features]\n",
    "y_train = df.loc[:i, \"sentiment\"].values\n",
    "X_test  = df.loc[i+1:, features]\n",
    "y_test  = df.loc[i+1:, \"sentiment\"].values"
   ]
  },
  {
   "cell_type": "markdown",
   "id": "196617d9",
   "metadata": {},
   "source": [
    "## Scale the numerical features"
   ]
  },
  {
   "cell_type": "code",
   "execution_count": 14,
   "id": "fca25f30",
   "metadata": {},
   "outputs": [
    {
     "data": {
      "text/html": [
       "<div>\n",
       "<style scoped>\n",
       "    .dataframe tbody tr th:only-of-type {\n",
       "        vertical-align: middle;\n",
       "    }\n",
       "\n",
       "    .dataframe tbody tr th {\n",
       "        vertical-align: top;\n",
       "    }\n",
       "\n",
       "    .dataframe thead th {\n",
       "        text-align: right;\n",
       "    }\n",
       "</style>\n",
       "<table border=\"1\" class=\"dataframe\">\n",
       "  <thead>\n",
       "    <tr style=\"text-align: right;\">\n",
       "      <th></th>\n",
       "      <th>content</th>\n",
       "      <th>wordCount</th>\n",
       "      <th>charCount</th>\n",
       "    </tr>\n",
       "  </thead>\n",
       "  <tbody>\n",
       "    <tr>\n",
       "      <th>0</th>\n",
       "      <td>it s good</td>\n",
       "      <td>0.006198</td>\n",
       "      <td>0.003270</td>\n",
       "    </tr>\n",
       "    <tr>\n",
       "      <th>1</th>\n",
       "      <td>i love this app so much i ve been using spotif...</td>\n",
       "      <td>0.169421</td>\n",
       "      <td>0.143858</td>\n",
       "    </tr>\n",
       "    <tr>\n",
       "      <th>2</th>\n",
       "      <td>perfect</td>\n",
       "      <td>0.002066</td>\n",
       "      <td>0.003270</td>\n",
       "    </tr>\n",
       "    <tr>\n",
       "      <th>3</th>\n",
       "      <td>best all around music streaming app i have use...</td>\n",
       "      <td>0.028926</td>\n",
       "      <td>0.027557</td>\n",
       "    </tr>\n",
       "    <tr>\n",
       "      <th>4</th>\n",
       "      <td>are y all fr gatekeeping the play button on so...</td>\n",
       "      <td>0.020661</td>\n",
       "      <td>0.018683</td>\n",
       "    </tr>\n",
       "  </tbody>\n",
       "</table>\n",
       "</div>"
      ],
      "text/plain": [
       "                                             content  wordCount  charCount\n",
       "0                                          it s good   0.006198   0.003270\n",
       "1  i love this app so much i ve been using spotif...   0.169421   0.143858\n",
       "2                                            perfect   0.002066   0.003270\n",
       "3  best all around music streaming app i have use...   0.028926   0.027557\n",
       "4  are y all fr gatekeeping the play button on so...   0.020661   0.018683"
      ]
     },
     "execution_count": 14,
     "metadata": {},
     "output_type": "execute_result"
    }
   ],
   "source": [
    "sc = MinMaxScaler()\n",
    "X_train[features[1:]] = sc.fit_transform(X_train[features[1:]])\n",
    "X_test[features[1:]] = sc.transform(X_test[features[1:]])\n",
    "X_train.head()"
   ]
  },
  {
   "cell_type": "markdown",
   "id": "12e1aa4b",
   "metadata": {},
   "source": [
    "## Vectorize the content column"
   ]
  },
  {
   "cell_type": "code",
   "execution_count": 15,
   "id": "028b1094",
   "metadata": {},
   "outputs": [
    {
     "data": {
      "text/plain": [
       "(338393, 5002)"
      ]
     },
     "execution_count": 15,
     "metadata": {},
     "output_type": "execute_result"
    }
   ],
   "source": [
    "cv = CountVectorizer(max_features=5000)\n",
    "\n",
    "X_train_content = X_train[\"content\"].values\n",
    "X_train_other = X_train[[\"wordCount\",\"charCount\"]].values\n",
    "X_content_vectorized = cv.fit_transform(X_train_content).toarray()\n",
    "X_train = np.concatenate((X_content_vectorized, X_train_other), axis=1)\n",
    "X_train.shape"
   ]
  },
  {
   "cell_type": "code",
   "execution_count": 16,
   "id": "65a2aa03",
   "metadata": {},
   "outputs": [
    {
     "data": {
      "text/plain": [
       "(84617, 5002)"
      ]
     },
     "execution_count": 16,
     "metadata": {},
     "output_type": "execute_result"
    }
   ],
   "source": [
    "X_test_content = X_test[\"content\"].values\n",
    "X_test_other = X_test[[\"wordCount\",\"charCount\"]].values\n",
    "X_content_vectorized = cv.transform(X_test_content).toarray()\n",
    "X_test = np.concatenate((X_content_vectorized, X_test_other), axis=1)\n",
    "X_test.shape"
   ]
  },
  {
   "cell_type": "markdown",
   "id": "3c2dc521",
   "metadata": {},
   "source": [
    "# Define models"
   ]
  },
  {
   "cell_type": "markdown",
   "id": "51fa09c4",
   "metadata": {},
   "source": [
    "Set the device"
   ]
  },
  {
   "cell_type": "code",
   "execution_count": 17,
   "id": "2256c283",
   "metadata": {},
   "outputs": [],
   "source": [
    "device = torch.device(\"cuda\" if torch.cuda.is_available() else \"cpu\")"
   ]
  },
  {
   "cell_type": "markdown",
   "id": "98e3524e",
   "metadata": {},
   "source": [
    "Define the model"
   ]
  },
  {
   "cell_type": "code",
   "execution_count": 18,
   "id": "b65448b0",
   "metadata": {},
   "outputs": [],
   "source": [
    "input_size = X_train.shape[1]\n",
    "model =nn.Sequential(\n",
    "    nn.Linear(input_size,1024),\n",
    "    nn.ReLU(),\n",
    "    nn.Dropout(0.5),\n",
    "    nn.Linear(1024,512),\n",
    "    nn.ReLU(),\n",
    "    nn.Dropout(0.5),\n",
    "    nn.Linear(512,256),\n",
    "    nn.ReLU(),\n",
    "    nn.Dropout(0.5),\n",
    "    nn.Linear(256,3),\n",
    ").to(device)"
   ]
  },
  {
   "cell_type": "code",
   "execution_count": 19,
   "id": "6e7de450",
   "metadata": {},
   "outputs": [],
   "source": [
    "criterion = nn.CrossEntropyLoss()\n",
    "optimizer = optim.SGD(model.parameters(), lr=0.001)"
   ]
  },
  {
   "cell_type": "code",
   "execution_count": 20,
   "id": "f211da1d",
   "metadata": {},
   "outputs": [],
   "source": [
    "class CustomDataset(Dataset):\n",
    "    def __init__(self, features, labels):\n",
    "        self.features = torch.tensor(features, dtype=torch.float32)\n",
    "        self.labels = torch.tensor(labels)\n",
    "\n",
    "    def __len__(self):\n",
    "        return len(self.features)\n",
    "\n",
    "    def __getitem__(self, idx):\n",
    "        return self.features[idx], self.labels[idx]\n",
    "\n",
    "# Create Dataset objects\n",
    "train_dataset = CustomDataset(X_train, y_train)\n",
    "test_dataset = CustomDataset(X_test, y_test)\n",
    "\n",
    "# Create DataLoader objects\n",
    "trainloader = DataLoader(train_dataset, batch_size=128, shuffle=True)\n",
    "testloader = DataLoader(test_dataset, batch_size=128, shuffle=False)"
   ]
  },
  {
   "cell_type": "code",
   "execution_count": 21,
   "id": "9f4d42c2",
   "metadata": {},
   "outputs": [
    {
     "name": "stdout",
     "output_type": "stream",
     "text": [
      "[Epoch 1] loss: 0.986\n",
      "[Epoch 2] loss: 0.881\n",
      "[Epoch 3] loss: 0.826\n",
      "[Epoch 4] loss: 0.759\n",
      "[Epoch 5] loss: 0.728\n",
      "[Epoch 6] loss: 0.710\n",
      "[Epoch 7] loss: 0.695\n",
      "[Epoch 8] loss: 0.676\n",
      "[Epoch 9] loss: 0.648\n",
      "[Epoch 10] loss: 0.622\n",
      "[Epoch 11] loss: 0.598\n",
      "[Epoch 12] loss: 0.581\n",
      "[Epoch 13] loss: 0.569\n",
      "[Epoch 14] loss: 0.558\n",
      "[Epoch 15] loss: 0.550\n",
      "[Epoch 16] loss: 0.543\n",
      "[Epoch 17] loss: 0.534\n",
      "[Epoch 18] loss: 0.531\n",
      "[Epoch 19] loss: 0.526\n",
      "[Epoch 20] loss: 0.522\n",
      "[Epoch 21] loss: 0.516\n",
      "[Epoch 22] loss: 0.514\n",
      "[Epoch 23] loss: 0.511\n",
      "[Epoch 24] loss: 0.508\n",
      "[Epoch 25] loss: 0.505\n",
      "[Epoch 26] loss: 0.504\n",
      "[Epoch 27] loss: 0.501\n",
      "[Epoch 28] loss: 0.498\n",
      "[Epoch 29] loss: 0.495\n",
      "[Epoch 30] loss: 0.494\n",
      "[Epoch 31] loss: 0.491\n",
      "[Epoch 32] loss: 0.491\n",
      "[Epoch 33] loss: 0.489\n",
      "[Epoch 34] loss: 0.487\n",
      "[Epoch 35] loss: 0.485\n",
      "[Epoch 36] loss: 0.484\n",
      "[Epoch 37] loss: 0.483\n",
      "[Epoch 38] loss: 0.482\n",
      "[Epoch 39] loss: 0.480\n",
      "[Epoch 40] loss: 0.479\n",
      "[Epoch 41] loss: 0.479\n",
      "[Epoch 42] loss: 0.476\n",
      "[Epoch 43] loss: 0.476\n",
      "[Epoch 44] loss: 0.473\n",
      "[Epoch 45] loss: 0.473\n",
      "[Epoch 46] loss: 0.473\n",
      "[Epoch 47] loss: 0.471\n",
      "[Epoch 48] loss: 0.471\n",
      "[Epoch 49] loss: 0.469\n",
      "[Epoch 50] loss: 0.469\n",
      "[Epoch 51] loss: 0.469\n",
      "[Epoch 52] loss: 0.466\n",
      "[Epoch 53] loss: 0.465\n",
      "[Epoch 54] loss: 0.464\n",
      "[Epoch 55] loss: 0.465\n",
      "[Epoch 56] loss: 0.461\n",
      "[Epoch 57] loss: 0.464\n",
      "[Epoch 58] loss: 0.462\n",
      "[Epoch 59] loss: 0.460\n",
      "[Epoch 60] loss: 0.460\n",
      "[Epoch 61] loss: 0.460\n",
      "[Epoch 62] loss: 0.459\n",
      "[Epoch 63] loss: 0.457\n",
      "[Epoch 64] loss: 0.456\n",
      "[Epoch 65] loss: 0.457\n",
      "[Epoch 66] loss: 0.456\n",
      "[Epoch 67] loss: 0.457\n",
      "[Epoch 68] loss: 0.453\n",
      "[Epoch 69] loss: 0.455\n",
      "[Epoch 70] loss: 0.454\n",
      "[Epoch 71] loss: 0.452\n",
      "[Epoch 72] loss: 0.453\n",
      "[Epoch 73] loss: 0.450\n",
      "[Epoch 74] loss: 0.448\n",
      "[Epoch 75] loss: 0.451\n",
      "[Epoch 76] loss: 0.448\n",
      "[Epoch 77] loss: 0.449\n",
      "[Epoch 78] loss: 0.448\n",
      "[Epoch 79] loss: 0.446\n",
      "[Epoch 80] loss: 0.446\n",
      "[Epoch 81] loss: 0.447\n",
      "[Epoch 82] loss: 0.446\n",
      "[Epoch 83] loss: 0.445\n",
      "[Epoch 84] loss: 0.443\n",
      "[Epoch 85] loss: 0.442\n",
      "[Epoch 86] loss: 0.444\n",
      "[Epoch 87] loss: 0.443\n",
      "[Epoch 88] loss: 0.441\n",
      "[Epoch 89] loss: 0.441\n",
      "[Epoch 90] loss: 0.442\n",
      "[Epoch 91] loss: 0.440\n",
      "[Epoch 92] loss: 0.439\n",
      "[Epoch 93] loss: 0.439\n",
      "[Epoch 94] loss: 0.437\n",
      "[Epoch 95] loss: 0.436\n",
      "[Epoch 96] loss: 0.435\n",
      "[Epoch 97] loss: 0.436\n",
      "[Epoch 98] loss: 0.435\n",
      "[Epoch 99] loss: 0.436\n",
      "[Epoch 100] loss: 0.434\n",
      "Finished Training\n",
      "Accuracy of the network on the test data: 79.32212203221574%\n"
     ]
    }
   ],
   "source": [
    "for epoch in range(100):\n",
    "    running_loss = 0.0\n",
    "    for i, data in enumerate(trainloader, 0):\n",
    "        inputs, labels = data\n",
    "        inputs, labels = inputs.to(device), labels.to(device)\n",
    "        \n",
    "        optimizer.zero_grad()\n",
    "        outputs = model(inputs)\n",
    "        loss = criterion(outputs, labels)\n",
    "        loss.backward()\n",
    "        optimizer.step()\n",
    "\n",
    "        running_loss += loss.item()\n",
    "        if i % 2000 == 1999:\n",
    "            print(f'[Epoch {epoch + 1}] loss: {running_loss / 2000:.3f}')\n",
    "            running_loss = 0.0\n",
    "\n",
    "print('Finished Training')\n",
    "\n",
    "# Evaluation loop\n",
    "correct = 0\n",
    "total = 0\n",
    "with torch.no_grad():\n",
    "    for data in testloader:\n",
    "        inputs, labels = data\n",
    "        inputs, labels = inputs.to(device), labels.to(device)\n",
    "        outputs = model(inputs)\n",
    "        _, predicted = torch.max(outputs.data, 1)\n",
    "        total += labels.size(0)\n",
    "        correct += (predicted == labels).sum().item()\n",
    "\n",
    "print(f'Accuracy of the network on the test data: {100 * correct / total}%')"
   ]
  },
  {
   "cell_type": "markdown",
   "id": "cbb8bc5d",
   "metadata": {},
   "source": [
    "# Save the model"
   ]
  },
  {
   "cell_type": "code",
   "execution_count": 22,
   "id": "40a9b8ae",
   "metadata": {},
   "outputs": [],
   "source": [
    "torch.save(model, 'model.pth')"
   ]
  },
  {
   "cell_type": "code",
   "execution_count": null,
   "id": "92d40e26",
   "metadata": {},
   "outputs": [],
   "source": []
  }
 ],
 "metadata": {
  "kernelspec": {
   "display_name": "Python 3 (ipykernel)",
   "language": "python",
   "name": "python3"
  },
  "language_info": {
   "codemirror_mode": {
    "name": "ipython",
    "version": 3
   },
   "file_extension": ".py",
   "mimetype": "text/x-python",
   "name": "python",
   "nbconvert_exporter": "python",
   "pygments_lexer": "ipython3",
   "version": "3.9.0"
  }
 },
 "nbformat": 4,
 "nbformat_minor": 5
}
